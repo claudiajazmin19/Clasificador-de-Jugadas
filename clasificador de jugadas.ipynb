{
 "metadata": {
  "language_info": {
   "codemirror_mode": {
    "name": "ipython",
    "version": 3
   },
   "file_extension": ".py",
   "mimetype": "text/x-python",
   "name": "python",
   "nbconvert_exporter": "python",
   "pygments_lexer": "ipython3",
   "version": "3.8.5-final"
  },
  "orig_nbformat": 2,
  "kernelspec": {
   "name": "python3",
   "display_name": "Python 3.8.5 64-bit (conda)",
   "metadata": {
    "interpreter": {
     "hash": "b3ba2566441a7c06988d0923437866b63cedc61552a5af99d1f4fb67d367b25f"
    }
   }
  }
 },
 "nbformat": 4,
 "nbformat_minor": 2,
 "cells": [
  {
   "cell_type": "code",
   "execution_count": 60,
   "metadata": {},
   "outputs": [],
   "source": [
    "import pandas as pd\n",
    "import numpy as np\n",
    "from sklearn import tree\n",
    "from sklearn.model_selection import cross_validate, GridSearchCV, train_test_split, cross_val_score, cross_val_predict\n",
    "from sklearn.tree import DecisionTreeClassifier, plot_tree\n",
    "from sklearn.naive_bayes import MultinomialNB, GaussianNB, CategoricalNB, BernoulliNB, ComplementNB\n",
    "from sklearn.metrics import recall_score, accuracy_score, confusion_matrix, classification_report\n",
    "from imblearn.over_sampling import SMOTE\n",
    "from collections import Counter\n",
    "from imblearn.combine import SMOTETomek\n",
    "import graphviz \n",
    "from sklearn.tree import export_text"
   ]
  },
  {
   "cell_type": "code",
   "execution_count": 2,
   "metadata": {},
   "outputs": [
    {
     "output_type": "stream",
     "name": "stdout",
     "text": [
      "Contenido de data set:  (300000, 11)\nCantidad por clase:\n 0    150289\n1    126833\n2     14395\n3      6238\n4      1156\n5       598\n6       423\n7        62\n8         4\n9         2\nName: Clase, dtype: int64\n"
     ]
    }
   ],
   "source": [
    "#Leemos el CSV\n",
    "df = pd.read_csv('poker-hand-tiny.csv')\n",
    "print(\"Contenido de data set: \", df.shape)\n",
    "print(\"Cantidad por clase:\\n\", df.Clase.value_counts())"
   ]
  },
  {
   "cell_type": "code",
   "execution_count": 3,
   "metadata": {},
   "outputs": [],
   "source": [
    "#Limpiamos el CSV\n",
    "for i in range(8,10):\n",
    "    #Creamos lista con los indices a eliminar\n",
    "    idmemor = df[df['Clase']== i].index\n",
    "    #Eliminamos los indices del csv\n",
    "    df = df.drop(idmemor)\n"
   ]
  },
  {
   "cell_type": "code",
   "execution_count": 4,
   "metadata": {},
   "outputs": [],
   "source": [
    "#Define cada dataset\n",
    "y = df.iloc[:,-1]\n",
    "x = df.iloc[:,0:10]"
   ]
  },
  {
   "cell_type": "code",
   "execution_count": 86,
   "metadata": {},
   "outputs": [
    {
     "output_type": "stream",
     "name": "stdout",
     "text": [
      "         S1  C1  S2  C2  S3  C3  S4  C4  S5  C5\n851142    4   6   4   1   4   6   4  10   4   4\n41325     3   2   3  12   1   3   1   1   4   6\n207671    2  12   4   2   2   7   4  11   4  13\n902530    2   2   4   2   2   2   1   1   3   1\n390528    1   7   1   5   2   7   3   4   2   4\n...      ..  ..  ..  ..  ..  ..  ..  ..  ..  ..\n740387    3  10   3   3   3   5   3   8   3   9\n998007    4   6   2   8   1   5   3   5   1   8\n590424    1   8   3   6   2   8   1   7   3  10\n878075    4  10   3  11   2  11   3   8   2   8\n1108633   1   2   1   1   3   1   3   1   1   1\n\n[783609 rows x 10 columns] 851142     5\n41325      0\n207671     0\n902530     6\n390528     2\n          ..\n740387     5\n998007     6\n590424     4\n878075     6\n1108633    7\nName: Clase, Length: 783609, dtype: int64\nAntes de SMOTE: Counter({0: 150289, 1: 126833, 2: 14395, 3: 6238, 4: 1156, 5: 598, 6: 423, 7: 62}) \nDespués de SMOTE:  Counter({0: 150289, 1: 150289, 2: 150289, 3: 150289, 5: 150289, 4: 150289, 6: 150289, 7: 150289})\n"
     ]
    }
   ],
   "source": [
    "# CREACIÓN DATOS SINTÉTICOS\n",
    "smote = SMOTETomek(sampling_strategy='auto')\n",
    "X_SMOTE, Y_SMOTE = smote.fit_sample(x, y)\n",
    "print(\"Antes de SMOTE:\", Counter(y),\"\\nDespués de SMOTE: \", Counter(Y_SMOTE))"
   ]
  },
  {
   "cell_type": "code",
   "execution_count": 93,
   "metadata": {},
   "outputs": [],
   "source": [
    "X_train, X_test, Y_train, Y_test = train_test_split(X_SMOTE, Y_SMOTE, test_size = 0.33, random_state = 324)\n"
   ]
  },
  {
   "cell_type": "code",
   "execution_count": 94,
   "metadata": {},
   "outputs": [],
   "source": [
    "#ÁRBOL DE DECISIÓN \n",
    "arboldecision = DecisionTreeClassifier()\n",
    "parametros = {'min_samples_split': [2, 4, 10], 'max_depth': [10, 20, 37, 40]}"
   ]
  },
  {
   "cell_type": "code",
   "execution_count": 95,
   "metadata": {},
   "outputs": [
    {
     "output_type": "stream",
     "name": "stdout",
     "text": [
      "0.437 for {'max_depth': 10, 'min_samples_split': 2}\n0.437 for {'max_depth': 10, 'min_samples_split': 4}\n0.437 for {'max_depth': 10, 'min_samples_split': 10}\n0.778 for {'max_depth': 20, 'min_samples_split': 2}\n0.775 for {'max_depth': 20, 'min_samples_split': 4}\n0.766 for {'max_depth': 20, 'min_samples_split': 10}\n0.834 for {'max_depth': 37, 'min_samples_split': 2}\n0.826 for {'max_depth': 37, 'min_samples_split': 4}\n0.808 for {'max_depth': 37, 'min_samples_split': 10}\n0.834 for {'max_depth': 40, 'min_samples_split': 2}\n0.826 for {'max_depth': 40, 'min_samples_split': 4}\n0.808 for {'max_depth': 40, 'min_samples_split': 10}\n\n"
     ]
    }
   ],
   "source": [
    "# VALIDACIÓN CRUZADA - Grid Search\n",
    "clf = GridSearchCV(arboldecision, parametros, cv = 3)\n",
    "clf.fit(X_train, Y_train)\n",
    "clf.cv_results_\n",
    "resultados = pd.DataFrame(clf.cv_results_)\n",
    "means = clf.cv_results_['mean_test_score']\n",
    "for mean, parametros in zip(means,  clf.cv_results_['params']):\n",
    "    print(\"%0.3f for %r\" %(mean, parametros))\n",
    "\n",
    "print()\n"
   ]
  },
  {
   "cell_type": "code",
   "execution_count": 96,
   "metadata": {},
   "outputs": [
    {
     "output_type": "stream",
     "name": "stdout",
     "text": [
      "Resultado Arbol de Decisión: 99.986 con parametros {'max_depth': 37, 'min_samples_split': 2}\n"
     ]
    }
   ],
   "source": [
    "model = clf.best_estimator_\n",
    "params = clf.best_params_\n",
    "print('Resultado Arbol de Decisión: %0.3f con parametros %r'%( model.score(X_train,Y_train)*100, params))"
   ]
  },
  {
   "cell_type": "code",
   "execution_count": 42,
   "metadata": {},
   "outputs": [
    {
     "output_type": "execute_result",
     "data": {
      "text/plain": [
       "'\\ncolumnas = list(X_train.columns.values)\\nr = export_text(model, feature_names=columnas)\\nprint(r)\\ntree.plot_tree(model) \\n'"
      ]
     },
     "metadata": {},
     "execution_count": 42
    }
   ],
   "source": [
    "'''\n",
    "columnas = list(X_train.columns.values)\n",
    "r = export_text(model, feature_names=columnas)\n",
    "print(r)\n",
    "tree.plot_tree(model) \n",
    "'''"
   ]
  },
  {
   "cell_type": "code",
   "execution_count": 101,
   "metadata": {
    "tags": []
   },
   "outputs": [
    {
     "output_type": "stream",
     "name": "stdout",
     "text": [
      "The binary tree structure has 241805 nodes and has the following tree structure:\n\nnode=0\n test node: go to node 1 if X[:, 0] <= 3.5 \nelse to node 191604.\n\nnode=1\n test node: go to node 2 if X[:, 4] <= 3.5 \nelse to node 152321.\n\nnode=2\n test node: go to node 3 if X[:, 2] <= 3.5 \nelse to node 119948.\n\nnode=3\n test node: go to node 4 if X[:, 6] <= 3.5 \nelse to node 96223.\n\nnode=4\n test node: go to node 5 if X[:, 8] <= 3.5 \nelse to node 75602.\n\nnode=5\n test node: go to node 6 if X[:, 4] <= 1.5 \nelse to node 25457.\n\nnode=6\n test node: go to node 7 if X[:, 8] <= 1.5 \nelse to node 8308.\n\nnode=7\n test node: go to node 8 if X[:, 2] <= 1.5 \nelse to node 2357.\n\nnode=8\n test node: go to node 9 if X[:, 0] <= 1.5 \nelse to node 642.\n\nnode=9\n test node: go to node 10 if X[:, 6] <= 1.5 \nelse to node 195.\n\nnode=10\n test node: go to node 11 if X[:, 5] <= 6.5 \nelse to node 86.\n\nnode=11\n test node: go to node 12 if X[:, 5] <= 3.5 \nelse to node 53.\n\nnode=12\n test node: go to node 13 if X[:, 7] <= 1.5 \nelse to node 16.\n\nnode=13\n test node: go to node 14 if X[:, 3] <= 5.5 \nelse to node 15.\nNodo=14 Nodo hoja. \nNodo=15 Nodo hoja. \n\nnode=16\n test node: go to node 17 if X[:, 7] <= 3.5 \nelse to node 24.\n\nnode=17\n test node: go to node 18 if X[:, 3] <= 9.0 \nelse to node 19.\nNodo=18 Nodo hoja. \n\nnode=19\n test node: go to node 20 if X[:, 3] <= 10.5 \nelse to node 23.\n"
     ]
    }
   ],
   "source": [
    "n_nodes = model.tree_.node_count\n",
    "children_left = model.tree_.children_left\n",
    "children_right = model.tree_.children_right\n",
    "feature = model.tree_.feature\n",
    "threshold = model.tree_.threshold\n",
    "\n",
    "\n",
    "node_depth = np.zeros(shape=n_nodes, dtype=np.int64)\n",
    "is_leaves = np.zeros(shape=n_nodes, dtype=bool)\n",
    "stack = [(0, -1)]  # seed is the root node id and its parent depth\n",
    "while len(stack) > 0:\n",
    "    node_id, parent_depth = stack.pop()\n",
    "    node_depth[node_id] = parent_depth + 1\n",
    "\n",
    "    # If we have a test node\n",
    "    if (children_left[node_id] != children_right[node_id]):\n",
    "        stack.append((children_left[node_id], parent_depth + 1))\n",
    "        stack.append((children_right[node_id], parent_depth + 1))\n",
    "    else:\n",
    "        is_leaves[node_id] = True\n",
    "\n",
    "print(\"The binary tree structure has %s nodes and has \"\n",
    "      \"the following tree structure:\"\n",
    "      % n_nodes)\n",
    "for i in range(0,20):\n",
    "    if is_leaves[i]:\n",
    "        print(\"Nodo=%s Nodo hoja. \" % ( i))\n",
    "    else:\n",
    "        print(\"\\nnode=%s\\n test node: go to node %s if X[:, %s] <= %s \\nelse to \"\n",
    "              \"node %s.\"\n",
    "              % (\n",
    "                 i,\n",
    "                 children_left[i],\n",
    "                 feature[i],\n",
    "                 threshold[i],\n",
    "                 children_right[i]\n",
    "                 ))\n",
    "\n"
   ]
  },
  {
   "cell_type": "code",
   "execution_count": 99,
   "metadata": {},
   "outputs": [
    {
     "output_type": "stream",
     "name": "stdout",
     "text": [
      "Resultado Naive Bayes:  [0.20263521 0.20272163 0.20106809]\n"
     ]
    }
   ],
   "source": [
    "#NAIVE BAYES \n",
    "#bayes = MultinomialNB()\n",
    "bayes = GaussianNB()\n",
    "#bayes = CategoricalNB()\n",
    "#bayes = BernoulliNB()\n",
    "#bayes = ComplementNB()\n",
    "\n",
    "bayes.fit(X_train, Y_train)\n",
    "val_cruzada = cross_validate(bayes, X_train, Y_train, cv = 3)\n",
    "print('Resultado Naive Bayes: ', val_cruzada['test_score'])\n"
   ]
  },
  {
   "cell_type": "code",
   "execution_count": 100,
   "metadata": {},
   "outputs": [
    {
     "output_type": "stream",
     "name": "stdout",
     "text": [
      "85.2161113813536 \n",
      "\n",
      "20.179553032918896 \n",
      "\n",
      "[[25838 17121  4160  1883   274   143   152    26]\n",
      " [15681 22813  6386  3451   616    81   319    43]\n",
      " [ 1755  2917 43608   870   227    17   185    35]\n",
      " [  444   983   471 47496    61     0    59    17]\n",
      " [   26    64    39    16 49782     0     3     1]\n",
      " [    9     7     0     1     0 49649     1     0]\n",
      " [   14    30    27    16     3     0 49478     5]\n",
      " [    0     5     5     6     0     0     2 49442]] \n",
      "\n",
      "[[22476  3034  1297  2485  5217  3633  3867  7588]\n",
      " [20397  2833  1126  2278  7797  3367  3126  8466]\n",
      " [10022  2183  1450  2613 12106  4007  4440 12793]\n",
      " [ 8043  2367  1008  3128 14201  3658  3513 13613]\n",
      " [ 7030  1107   418  2034 23345  1789  1937 12271]\n",
      " [17613     0     0  1190  4897  2668 10317 12982]\n",
      " [ 5658  1105   610  2580 16581  3462  3191 16386]\n",
      " [ 2384  1169     0  1837 19586  2007  1503 20974]] \n",
      "\n",
      "              precision    recall  f1-score   support\n",
      "\n",
      "           0       0.59      0.52      0.55     49597\n",
      "           1       0.52      0.46      0.49     49390\n",
      "           2       0.80      0.88      0.84     49614\n",
      "           3       0.88      0.96      0.92     49531\n",
      "           4       0.98      1.00      0.99     49931\n",
      "           5       1.00      1.00      1.00     49667\n",
      "           6       0.99      1.00      0.99     49573\n",
      "           7       1.00      1.00      1.00     49460\n",
      "\n",
      "    accuracy                           0.85    396763\n",
      "   macro avg       0.84      0.85      0.85    396763\n",
      "weighted avg       0.84      0.85      0.85    396763\n",
      "\n",
      "              precision    recall  f1-score   support\n",
      "\n",
      "           0       0.24      0.45      0.31     49597\n",
      "           1       0.21      0.06      0.09     49390\n",
      "           2       0.25      0.03      0.05     49614\n",
      "           3       0.17      0.06      0.09     49531\n",
      "           4       0.23      0.47      0.30     49931\n",
      "           5       0.11      0.05      0.07     49667\n",
      "           6       0.10      0.06      0.08     49573\n",
      "           7       0.20      0.42      0.27     49460\n",
      "\n",
      "    accuracy                           0.20    396763\n",
      "   macro avg       0.19      0.20      0.16    396763\n",
      "weighted avg       0.19      0.20      0.16    396763\n",
      "\n"
     ]
    }
   ],
   "source": [
    "\n",
    "y_true_dt, y_pred_dt = Y_test, model.predict(X_test)\n",
    "y_true_nb, y_pred_nb = Y_test, bayes.predict(X_test)\n",
    "\n",
    "print(accuracy_score(y_true_dt, y_pred_dt)*100, \"\\n\")\n",
    "print(accuracy_score(y_true_nb, y_pred_nb)*100, \"\\n\")\n",
    "\n",
    "print(confusion_matrix(y_true_dt, y_pred_dt), \"\\n\")\n",
    "print(confusion_matrix(y_true_nb, y_pred_nb), \"\\n\")\n",
    "\n",
    "print(classification_report(y_true_dt, y_pred_dt))\n",
    "print(classification_report(y_true_nb, y_pred_nb))\n"
   ]
  },
  {
   "cell_type": "code",
   "execution_count": 72,
   "metadata": {},
   "outputs": [],
   "source": [
    "#SIN SMOTE\n",
    "x_train, x_test, y_train, y_test = train_test_split(x, y, test_size = 0.33, random_state = 324)\n"
   ]
  }
 ]
}