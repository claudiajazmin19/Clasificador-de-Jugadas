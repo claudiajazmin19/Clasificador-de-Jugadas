{
 "metadata": {
  "language_info": {
   "codemirror_mode": {
    "name": "ipython",
    "version": 3
   },
   "file_extension": ".py",
   "mimetype": "text/x-python",
   "name": "python",
   "nbconvert_exporter": "python",
   "pygments_lexer": "ipython3",
   "version": "3.8.5-final"
  },
  "orig_nbformat": 2,
  "kernelspec": {
   "name": "python3",
   "display_name": "Python 3.8.5 64-bit (conda)",
   "metadata": {
    "interpreter": {
     "hash": "b3ba2566441a7c06988d0923437866b63cedc61552a5af99d1f4fb67d367b25f"
    }
   }
  }
 },
 "nbformat": 4,
 "nbformat_minor": 2,
 "cells": [
  {
   "cell_type": "code",
   "execution_count": 1,
   "metadata": {},
   "outputs": [],
   "source": [
    "import pandas as pd\n",
    "import numpy as np\n",
    "from sklearn import tree\n",
    "from sklearn.model_selection import cross_validate, GridSearchCV, train_test_split, cross_val_score, cross_val_predict\n",
    "from sklearn.tree import DecisionTreeClassifier, plot_tree\n",
    "from sklearn.naive_bayes import MultinomialNB, GaussianNB, CategoricalNB, BernoulliNB, ComplementNB\n",
    "from sklearn.metrics import recall_score, accuracy_score, confusion_matrix, classification_report\n",
    "from imblearn.over_sampling import SMOTE\n",
    "from collections import Counter\n",
    "from imblearn.combine import SMOTETomek\n",
    "import graphviz \n",
    "from sklearn.tree import export_text, _tree"
   ]
  },
  {
   "cell_type": "code",
   "execution_count": 2,
   "metadata": {},
   "outputs": [
    {
     "output_type": "stream",
     "name": "stdout",
     "text": [
      "Contenido de data set:  (300000, 11)\nCantidad por clase:\n 0    150289\n1    126833\n2     14395\n3      6238\n4      1156\n5       598\n6       423\n7        62\n8         4\n9         2\nName: Clase, dtype: int64\n"
     ]
    }
   ],
   "source": [
    "#Leemos el CSV\n",
    "df = pd.read_csv('poker-hand-tiny.csv')\n",
    "print(\"Contenido de data set: \", df.shape)\n",
    "print(\"Cantidad por clase:\\n\", df.Clase.value_counts())"
   ]
  },
  {
   "cell_type": "code",
   "execution_count": 3,
   "metadata": {},
   "outputs": [],
   "source": [
    "#Limpiamos el CSV\n",
    "for i in range(8,10):\n",
    "    #Creamos lista con los indices a eliminar\n",
    "    idmemor = df[df['Clase']== i].index\n",
    "    #Eliminamos los indices del csv\n",
    "    df = df.drop(idmemor)\n"
   ]
  },
  {
   "cell_type": "code",
   "execution_count": 4,
   "metadata": {},
   "outputs": [],
   "source": [
    "#Define cada dataset\n",
    "y = df.iloc[:,-1]\n",
    "x = df.iloc[:,0:10]"
   ]
  },
  {
   "cell_type": "code",
   "execution_count": 5,
   "metadata": {},
   "outputs": [
    {
     "output_type": "stream",
     "name": "stdout",
     "text": [
      "Antes de SMOTE: Counter({0: 150289, 1: 126833, 2: 14395, 3: 6238, 4: 1156, 5: 598, 6: 423, 7: 62}) \nDespués de SMOTE:  Counter({7: 150289, 5: 150286, 6: 150286, 4: 150282, 3: 150186, 2: 149759, 0: 134447, 1: 134049})\n"
     ]
    }
   ],
   "source": [
    "# CREACIÓN DATOS SINTÉTICOS\n",
    "smote = SMOTETomek(sampling_strategy='auto')\n",
    "X_SMOTE, Y_SMOTE = smote.fit_sample(x, y)\n",
    "print(\"Antes de SMOTE:\", Counter(y),\"\\nDespués de SMOTE: \", Counter(Y_SMOTE))"
   ]
  },
  {
   "cell_type": "code",
   "execution_count": 6,
   "metadata": {},
   "outputs": [],
   "source": [
    "X_train, X_test, Y_train, Y_test = train_test_split(X_SMOTE, Y_SMOTE, test_size = 0.33, random_state = 324)\n"
   ]
  },
  {
   "cell_type": "code",
   "execution_count": 7,
   "metadata": {},
   "outputs": [],
   "source": [
    "#ÁRBOL DE DECISIÓN \n",
    "arboldecision = DecisionTreeClassifier()\n",
    "parametros = {'min_samples_split': [2, 4, 10], 'max_depth': [10, 20, 37, 40]}"
   ]
  },
  {
   "cell_type": "code",
   "execution_count": 8,
   "metadata": {},
   "outputs": [
    {
     "output_type": "stream",
     "name": "stdout",
     "text": [
      "0.448 for {'max_depth': 10, 'min_samples_split': 2}\n0.448 for {'max_depth': 10, 'min_samples_split': 4}\n0.448 for {'max_depth': 10, 'min_samples_split': 10}\n0.790 for {'max_depth': 20, 'min_samples_split': 2}\n0.787 for {'max_depth': 20, 'min_samples_split': 4}\n0.778 for {'max_depth': 20, 'min_samples_split': 10}\n0.846 for {'max_depth': 37, 'min_samples_split': 2}\n0.838 for {'max_depth': 37, 'min_samples_split': 4}\n0.820 for {'max_depth': 37, 'min_samples_split': 10}\n0.846 for {'max_depth': 40, 'min_samples_split': 2}\n0.838 for {'max_depth': 40, 'min_samples_split': 4}\n0.820 for {'max_depth': 40, 'min_samples_split': 10}\n\n"
     ]
    }
   ],
   "source": [
    "# VALIDACIÓN CRUZADA - Grid Search\n",
    "clf = GridSearchCV(arboldecision, parametros, cv = 3)\n",
    "clf.fit(X_train, Y_train)\n",
    "clf.cv_results_\n",
    "resultados = pd.DataFrame(clf.cv_results_)\n",
    "means = clf.cv_results_['mean_test_score']\n",
    "for mean, parametros in zip(means,  clf.cv_results_['params']):\n",
    "    print(\"%0.3f for %r\" %(mean, parametros))\n",
    "\n",
    "print()\n"
   ]
  },
  {
   "cell_type": "code",
   "execution_count": 9,
   "metadata": {},
   "outputs": [
    {
     "output_type": "stream",
     "name": "stdout",
     "text": [
      "Resultado Arbol de Decisión: 99.987 con parametros {'max_depth': 37, 'min_samples_split': 2}\n"
     ]
    }
   ],
   "source": [
    "model = clf.best_estimator_\n",
    "params = clf.best_params_\n",
    "print('Resultado Arbol de Decisión: %0.3f con parametros %r'%( model.score(X_train,Y_train)*100, params))"
   ]
  },
  {
   "cell_type": "code",
   "execution_count": 15,
   "metadata": {},
   "outputs": [
    {
     "output_type": "error",
     "ename": "SyntaxError",
     "evalue": "invalid syntax (<ipython-input-15-ba7ab8ff4c1b>, line 15)",
     "traceback": [
      "\u001b[1;36m  File \u001b[1;32m\"<ipython-input-15-ba7ab8ff4c1b>\"\u001b[1;36m, line \u001b[1;32m15\u001b[0m\n\u001b[1;33m    print \"{}if {} <= {}:\".format(indent, name, threshold)\u001b[0m\n\u001b[1;37m          ^\u001b[0m\n\u001b[1;31mSyntaxError\u001b[0m\u001b[1;31m:\u001b[0m invalid syntax\n"
     ]
    }
   ],
   "source": [
    "def tree_to_code(tree, feature_names):\n",
    "    tree_ = tree.tree_\n",
    "    feature_name = [\n",
    "        feature_names[i] if i != _tree.TREE_UNDEFINED else \"undefined!\"\n",
    "        for i in tree_.feature\n",
    "    ]\n",
    "\n",
    "    print(\"def tree({}):\".format(\", \".join(feature_names)))\n",
    "\n",
    "    def recurse(node, depth):\n",
    "        indent = \"  \" * depth\n",
    "        if tree_.feature[node] != _tree.TREE_UNDEFINED:\n",
    "            name = feature_name[node]\n",
    "            threshold = tree_.threshold[node]\n",
    "            print( \"{}if {} <= {}:\".format(indent, name, threshold))\n",
    "            recurse(tree_.children_left[node], depth + 1)\n",
    "            print( \"{}else:  # if {} > {}\".format(indent, name, threshold))\n",
    "            recurse(tree_.children_right[node], depth + 1)\n",
    "        else:\n",
    "            print( \"{}return {}\".format(indent, tree_.value[node]))\n",
    "\n",
    "    recurse(0, 1)\n",
    "\n",
    "tree_to_code(model, list(X_train.columns.values))"
   ]
  },
  {
   "cell_type": "code",
   "execution_count": 42,
   "metadata": {},
   "outputs": [
    {
     "output_type": "execute_result",
     "data": {
      "text/plain": [
       "'\\ncolumnas = list(X_train.columns.values)\\nr = export_text(model, feature_names=columnas)\\nprint(r)\\ntree.plot_tree(model) \\n'"
      ]
     },
     "metadata": {},
     "execution_count": 42
    }
   ],
   "source": [
    "'''\n",
    "columnas = list(X_train.columns.values)\n",
    "r = export_text(model, feature_names=columnas)\n",
    "print(r)\n",
    "tree.plot_tree(model) \n",
    "'''"
   ]
  },
  {
   "cell_type": "code",
   "execution_count": 101,
   "metadata": {
    "tags": []
   },
   "outputs": [
    {
     "output_type": "stream",
     "name": "stdout",
     "text": [
      "The binary tree structure has 241805 nodes and has the following tree structure:\n\nnode=0\n test node: go to node 1 if X[:, 0] <= 3.5 \nelse to node 191604.\n\nnode=1\n test node: go to node 2 if X[:, 4] <= 3.5 \nelse to node 152321.\n\nnode=2\n test node: go to node 3 if X[:, 2] <= 3.5 \nelse to node 119948.\n\nnode=3\n test node: go to node 4 if X[:, 6] <= 3.5 \nelse to node 96223.\n\nnode=4\n test node: go to node 5 if X[:, 8] <= 3.5 \nelse to node 75602.\n\nnode=5\n test node: go to node 6 if X[:, 4] <= 1.5 \nelse to node 25457.\n\nnode=6\n test node: go to node 7 if X[:, 8] <= 1.5 \nelse to node 8308.\n\nnode=7\n test node: go to node 8 if X[:, 2] <= 1.5 \nelse to node 2357.\n\nnode=8\n test node: go to node 9 if X[:, 0] <= 1.5 \nelse to node 642.\n\nnode=9\n test node: go to node 10 if X[:, 6] <= 1.5 \nelse to node 195.\n\nnode=10\n test node: go to node 11 if X[:, 5] <= 6.5 \nelse to node 86.\n\nnode=11\n test node: go to node 12 if X[:, 5] <= 3.5 \nelse to node 53.\n\nnode=12\n test node: go to node 13 if X[:, 7] <= 1.5 \nelse to node 16.\n\nnode=13\n test node: go to node 14 if X[:, 3] <= 5.5 \nelse to node 15.\nNodo=14 Nodo hoja. \nNodo=15 Nodo hoja. \n\nnode=16\n test node: go to node 17 if X[:, 7] <= 3.5 \nelse to node 24.\n\nnode=17\n test node: go to node 18 if X[:, 3] <= 9.0 \nelse to node 19.\nNodo=18 Nodo hoja. \n\nnode=19\n test node: go to node 20 if X[:, 3] <= 10.5 \nelse to node 23.\n"
     ]
    }
   ],
   "source": [
    "n_nodes = model.tree_.node_count\n",
    "children_left = model.tree_.children_left\n",
    "children_right = model.tree_.children_right\n",
    "feature = model.tree_.feature\n",
    "threshold = model.tree_.threshold\n",
    "\n",
    "\n",
    "node_depth = np.zeros(shape=n_nodes, dtype=np.int64)\n",
    "is_leaves = np.zeros(shape=n_nodes, dtype=bool)\n",
    "stack = [(0, -1)]  # seed is the root node id and its parent depth\n",
    "while len(stack) > 0:\n",
    "    node_id, parent_depth = stack.pop()\n",
    "    node_depth[node_id] = parent_depth + 1\n",
    "\n",
    "    # If we have a test node\n",
    "    if (children_left[node_id] != children_right[node_id]):\n",
    "        stack.append((children_left[node_id], parent_depth + 1))\n",
    "        stack.append((children_right[node_id], parent_depth + 1))\n",
    "    else:\n",
    "        is_leaves[node_id] = True\n",
    "\n",
    "print(\"The binary tree structure has %s nodes and has \"\n",
    "      \"the following tree structure:\"\n",
    "      % n_nodes)\n",
    "for i in range(0,20):\n",
    "    if is_leaves[i]:\n",
    "        print(\"Nodo=%s Nodo hoja. \" % ( i))\n",
    "    else:\n",
    "        print(\"\\nnode=%s\\n test node: go to node %s if X[:, %s] <= %s \\nelse to \"\n",
    "              \"node %s.\"\n",
    "              % (\n",
    "                 i,\n",
    "                 children_left[i],\n",
    "                 feature[i],\n",
    "                 threshold[i],\n",
    "                 children_right[i]\n",
    "                 ))\n",
    "\n"
   ]
  },
  {
   "cell_type": "code",
   "execution_count": 10,
   "metadata": {},
   "outputs": [
    {
     "output_type": "stream",
     "name": "stdout",
     "text": [
      "Resultado Naive Bayes:  [0.20480692 0.20429008 0.20416758]\n"
     ]
    }
   ],
   "source": [
    "#NAIVE BAYES \n",
    "#bayes = MultinomialNB()\n",
    "bayes = GaussianNB()\n",
    "#bayes = CategoricalNB()\n",
    "#bayes = BernoulliNB()\n",
    "#bayes = ComplementNB()\n",
    "\n",
    "bayes.fit(X_train, Y_train)\n",
    "val_cruzada = cross_validate(bayes, X_train, Y_train, cv = 3)\n",
    "print('Resultado Naive Bayes: ', val_cruzada['test_score'])\n"
   ]
  },
  {
   "cell_type": "code",
   "execution_count": 11,
   "metadata": {},
   "outputs": [
    {
     "output_type": "stream",
     "name": "stdout",
     "text": [
      "86.49196943748494 \n",
      "\n",
      "20.442374009943958 \n",
      "\n",
      "[[23655 14689  3986  1686   258    98   135    15]\n",
      " [13052 20667  6022  3228   610    76   342    45]\n",
      " [ 1579  2798 43872   859   233    16   189    24]\n",
      " [  376   904   493 47525    92     2    52    19]\n",
      " [   33    65    40     8 49509     0     5     0]\n",
      " [   12     4     1     0     0 49333     0     0]\n",
      " [    7    34    15    13     2     0 49564     9]\n",
      " [    0     2     3     5     0     0     0 49702]] \n",
      "\n",
      "[[18447  1454  1834  2533  5342  4146  3627  7139]\n",
      " [16050  1411  1510  2324  7916  3952  2964  7915]\n",
      " [ 8161  1168  1952  3146 12756  4861  4554 12972]\n",
      " [ 6428  1136  1530  3621 15023  4253  3657 13815]\n",
      " [ 5438   538   455  2626 24051  2102  2195 12255]\n",
      " [14944     0     0  1076  4997  4977 10120 13236]\n",
      " [ 4546   831   866  2755 17337  3890  3228 16191]\n",
      " [ 1047  1234     0  3035 20110  1888  1185 21213]] \n",
      "\n",
      "              precision    recall  f1-score   support\n",
      "\n",
      "           0       0.61      0.53      0.57     44522\n",
      "           1       0.53      0.47      0.50     44042\n",
      "           2       0.81      0.89      0.84     49570\n",
      "           3       0.89      0.96      0.92     49463\n",
      "           4       0.98      1.00      0.99     49660\n",
      "           5       1.00      1.00      1.00     49350\n",
      "           6       0.99      1.00      0.99     49644\n",
      "           7       1.00      1.00      1.00     49712\n",
      "\n",
      "    accuracy                           0.86    385963\n",
      "   macro avg       0.85      0.86      0.85    385963\n",
      "weighted avg       0.86      0.86      0.86    385963\n",
      "\n",
      "              precision    recall  f1-score   support\n",
      "\n",
      "           0       0.25      0.41      0.31     44522\n",
      "           1       0.18      0.03      0.05     44042\n",
      "           2       0.24      0.04      0.07     49570\n",
      "           3       0.17      0.07      0.10     49463\n",
      "           4       0.22      0.48      0.31     49660\n",
      "           5       0.17      0.10      0.13     49350\n",
      "           6       0.10      0.07      0.08     49644\n",
      "           7       0.20      0.43      0.27     49712\n",
      "\n",
      "    accuracy                           0.20    385963\n",
      "   macro avg       0.19      0.20      0.16    385963\n",
      "weighted avg       0.19      0.20      0.16    385963\n",
      "\n"
     ]
    }
   ],
   "source": [
    "\n",
    "y_true_dt, y_pred_dt = Y_test, model.predict(X_test)\n",
    "y_true_nb, y_pred_nb = Y_test, bayes.predict(X_test)\n",
    "\n",
    "print(accuracy_score(y_true_dt, y_pred_dt)*100, \"\\n\")\n",
    "print(accuracy_score(y_true_nb, y_pred_nb)*100, \"\\n\")\n",
    "\n",
    "print(confusion_matrix(y_true_dt, y_pred_dt), \"\\n\")\n",
    "print(confusion_matrix(y_true_nb, y_pred_nb), \"\\n\")\n",
    "\n",
    "print(classification_report(y_true_dt, y_pred_dt))\n",
    "print(classification_report(y_true_nb, y_pred_nb))\n"
   ]
  },
  {
   "cell_type": "code",
   "execution_count": 72,
   "metadata": {},
   "outputs": [],
   "source": [
    "#SIN SMOTE\n",
    "x_train, x_test, y_train, y_test = train_test_split(x, y, test_size = 0.33, random_state = 324)\n"
   ]
  }
 ]
}