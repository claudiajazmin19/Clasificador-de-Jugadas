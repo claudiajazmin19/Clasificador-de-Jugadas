{
 "metadata": {
  "language_info": {
   "codemirror_mode": {
    "name": "ipython",
    "version": 3
   },
   "file_extension": ".py",
   "mimetype": "text/x-python",
   "name": "python",
   "nbconvert_exporter": "python",
   "pygments_lexer": "ipython3",
   "version": "3.8.5-final"
  },
  "orig_nbformat": 2,
  "kernelspec": {
   "name": "python3",
   "display_name": "Python 3.8.5 64-bit (conda)",
   "metadata": {
    "interpreter": {
     "hash": "b3ba2566441a7c06988d0923437866b63cedc61552a5af99d1f4fb67d367b25f"
    }
   }
  }
 },
 "nbformat": 4,
 "nbformat_minor": 2,
 "cells": [
  {
   "cell_type": "code",
   "execution_count": 1,
   "metadata": {},
   "outputs": [],
   "source": [
    "import pandas as pd\n",
    "import numpy as np\n",
    "from sklearn import tree\n",
    "from sklearn.model_selection import cross_validate, GridSearchCV, train_test_split\n",
    "from sklearn.tree import DecisionTreeClassifier, plot_tree\n",
    "from sklearn.naive_bayes import MultinomialNB \n",
    "from sklearn.metrics import recall_score, accuracy_score, confusion_matrix\n",
    "from imblearn.over_sampling import SMOTE\n",
    "from collections import Counter\n",
    "from imblearn.combine import SMOTETomek\n",
    "import graphviz "
   ]
  },
  {
   "cell_type": "code",
   "execution_count": 2,
   "metadata": {},
   "outputs": [
    {
     "output_type": "stream",
     "name": "stdout",
     "text": [
      "Contenido de data set:  (300000, 11)\nCantidad por clase:\n 0    150289\n1    126833\n2     14395\n3      6238\n4      1156\n5       598\n6       423\n7        62\n8         4\n9         2\nName: Clase, dtype: int64\n"
     ]
    }
   ],
   "source": [
    "#Leemos el CSV\n",
    "df = pd.read_csv('poker-hand-tiny.csv')\n",
    "print(\"Contenido de data set: \", df.shape)\n",
    "print(\"Cantidad por clase:\\n\", df.Clase.value_counts())"
   ]
  },
  {
   "cell_type": "code",
   "execution_count": 3,
   "metadata": {},
   "outputs": [],
   "source": [
    "#Limpiamos el CSV\n",
    "for i in range(8,10):\n",
    "    #Creamos lista con los indices a eliminar\n",
    "    idmemor = df[df['Clase']== i].index\n",
    "    #Eliminamos los indices del csv\n",
    "    df = df.drop(idmemor)\n"
   ]
  },
  {
   "cell_type": "code",
   "execution_count": 4,
   "metadata": {},
   "outputs": [],
   "source": [
    "#Define cada dataset\n",
    "y_train = df.iloc[:,10]\n",
    "x_train = df.iloc[:,0:10]"
   ]
  },
  {
   "cell_type": "code",
   "execution_count": 5,
   "metadata": {},
   "outputs": [
    {
     "output_type": "stream",
     "name": "stdout",
     "text": [
      "Antes de SMOTE: Counter({0: 150289, 1: 126833, 2: 14395, 3: 6238, 4: 1156, 5: 598, 6: 423, 7: 62}) \nDespués de SMOTE:  Counter({7: 150289, 5: 150285, 6: 150285, 4: 150280, 3: 150185, 2: 149738, 0: 134240, 1: 133876})\n"
     ]
    }
   ],
   "source": [
    "# CREACIÓN DATOS SINTÉTICOS\n",
    "smote = SMOTETomek(sampling_strategy='auto')\n",
    "X_train, Y_train = smote.fit_sample(x_train, y_train)\n",
    "print(\"Antes de SMOTE:\", Counter(y_train),\"\\nDespués de SMOTE: \", Counter(Y_train))"
   ]
  },
  {
   "cell_type": "code",
   "execution_count": 13,
   "metadata": {},
   "outputs": [],
   "source": [
    "#ÁRBOL DE DECISIÓN \n",
    "arboldecision = DecisionTreeClassifier()\n",
    "parametros = {'max_depth': [10, 20], 'min_samples_split': [2, 20]}"
   ]
  },
  {
   "cell_type": "code",
   "execution_count": 14,
   "metadata": {},
   "outputs": [
    {
     "output_type": "stream",
     "name": "stdout",
     "text": [
      "0.447 for {'max_depth': 10, 'min_samples_split': 2}\n0.447 for {'max_depth': 10, 'min_samples_split': 20}\n0.802 for {'max_depth': 20, 'min_samples_split': 2}\n0.780 for {'max_depth': 20, 'min_samples_split': 20}\n\n"
     ]
    }
   ],
   "source": [
    "# VALIDACIÓN CRUZADA - Grid Search\n",
    "clf = GridSearchCV(arboldecision, parametros, cv = 3)\n",
    "clf.fit(X_train, Y_train)\n",
    "clf.cv_results_\n",
    "resultados = pd.DataFrame(clf.cv_results_)\n",
    "means = clf.cv_results_['mean_test_score']\n",
    "for mean, parametros in zip(means,  clf.cv_results_['params']):\n",
    "    print(\"%0.3f for %r\" %(mean, parametros))\n",
    "\n",
    "print()"
   ]
  },
  {
   "cell_type": "code",
   "execution_count": 15,
   "metadata": {},
   "outputs": [
    {
     "output_type": "stream",
     "name": "stdout",
     "text": [
      "Resultado Arbol de Decisión: 88.88047842159193 DecisionTreeClassifier(max_depth=20)\n"
     ]
    }
   ],
   "source": [
    "model = clf.best_estimator_\n",
    "print('Resultado Arbol de Decisión:' , model.score(X_train,Y_train)*100, model)"
   ]
  },
  {
   "cell_type": "code",
   "execution_count": 31,
   "metadata": {
    "tags": []
   },
   "outputs": [
    {
     "output_type": "stream",
     "name": "stdout",
     "text": [
      "The binary tree structure has 165767 nodes and has the following tree structure:\n\nnode=0\n test node: go to node 1 if X[:, 0] <= 3.5 \nelse to node 120776.\n\nnode=1\n test node: go to node 2 if X[:, 4] <= 3.5 \nelse to node 85997.\n\nnode=2\n test node: go to node 3 if X[:, 2] <= 3.5 \nelse to node 59256.\n\nnode=3\n test node: go to node 4 if X[:, 8] <= 3.5 \nelse to node 39659.\n\nnode=4\n test node: go to node 5 if X[:, 6] <= 3.5 \nelse to node 29244.\n\nnode=5\n test node: go to node 6 if X[:, 4] <= 1.5 \nelse to node 13429.\n\nnode=6\n test node: go to node 7 if X[:, 8] <= 1.5 \nelse to node 5330.\n\nnode=7\n test node: go to node 8 if X[:, 0] <= 1.5 \nelse to node 2017.\n\nnode=8\n test node: go to node 9 if X[:, 2] <= 1.5 \nelse to node 628.\n\nnode=9\n test node: go to node 10 if X[:, 6] <= 1.5 \nelse to node 179.\n\nnode=10\n test node: go to node 11 if X[:, 5] <= 6.5 \nelse to node 80.\n\nnode=11\n test node: go to node 12 if X[:, 5] <= 3.5 \nelse to node 41.\n\nnode=12\n test node: go to node 13 if X[:, 7] <= 1.5 \nelse to node 18.\n\nnode=13\n test node: go to node 14 if X[:, 3] <= 5.5 \nelse to node 17.\n\nnode=14\n test node: go to node 15 if X[:, 3] <= 4.5 \nelse to node 16.\nNodo=15 Nodo hoja. 0\nNodo=16 Nodo hoja. 0\nNodo=17 Nodo hoja. 0\n\nnode=18\n test node: go to node 19 if X[:, 7] <= 3.5 \nelse to node 24.\n\nnode=19\n test node: go to node 20 if X[:, 9] <= 7.5 \nelse to node 21.\n"
     ]
    }
   ],
   "source": [
    "n_nodes = model.tree_.node_count\n",
    "children_left = model.tree_.children_left\n",
    "children_right = model.tree_.children_right\n",
    "feature = model.tree_.feature\n",
    "threshold = model.tree_.threshold\n",
    "\n",
    "node_depth = np.zeros(shape=n_nodes, dtype=np.int64)\n",
    "is_leaves = np.zeros(shape=n_nodes, dtype=bool)\n",
    "stack = [(0, -1)]  # seed is the root node id and its parent depth\n",
    "while len(stack) > 0:\n",
    "    node_id, parent_depth = stack.pop()\n",
    "    node_depth[node_id] = parent_depth + 1\n",
    "\n",
    "    # If we have a test node\n",
    "    if (children_left[node_id] != children_right[node_id]):\n",
    "        stack.append((children_left[node_id], parent_depth + 1))\n",
    "        stack.append((children_right[node_id], parent_depth + 1))\n",
    "    else:\n",
    "        is_leaves[node_id] = True\n",
    "\n",
    "print(\"The binary tree structure has %s nodes and has \"\n",
    "      \"the following tree structure:\"\n",
    "      % n_nodes)\n",
    "for i in range(0,20):\n",
    "    if is_leaves[i]:\n",
    "        print(\"Nodo=%s Nodo hoja. \" % ( i))\n",
    "    else:\n",
    "        print(\"\\nnode=%s\\n test node: go to node %s if X[:, %s] <= %s \\nelse to \"\n",
    "              \"node %s.\"\n",
    "              % (\n",
    "                 i,\n",
    "                 children_left[i],\n",
    "                 feature[i],\n",
    "                 threshold[i],\n",
    "                 children_right[i]\n",
    "                 ))\n",
    "\n",
    "\n",
    "\n"
   ]
  },
  {
   "cell_type": "code",
   "execution_count": 17,
   "metadata": {},
   "outputs": [
    {
     "output_type": "stream",
     "name": "stdout",
     "text": [
      "Resultado Naive Bayes:  16.797100184916243\nResultado Naive Bayes:  [16.69942472 16.83721384 16.84953018]\n"
     ]
    }
   ],
   "source": [
    "#NAIVE BAYES \n",
    "bayes = MultinomialNB()\n",
    "bayes.fit(X_train, Y_train)\n",
    "val_cruzada = cross_validate(bayes, X_train, Y_train, cv = 3)\n",
    "print('Resultado Naive Bayes: ', bayes.score(X_train, Y_train)*100)\n",
    "print('Resultado Naive Bayes: ', val_cruzada['test_score']*100)"
   ]
  },
  {
   "cell_type": "code",
   "execution_count": 18,
   "metadata": {},
   "outputs": [
    {
     "output_type": "stream",
     "name": "stdout",
     "text": [
      "88.88047842159193\n",
      "16.797100184916243\n",
      "[[108348   8551   7354   5211   1473   1720   1265    318]\n",
      " [ 13135  94980  10259   8511   3343   1134   1932    582]\n",
      " [  3288   3543 121325   7472   7282   1168   4322   1338]\n",
      " [  1340   1797   4781 128679   7194    834   3705   1855]\n",
      " [    45     65    524   1539 142497    342   3122   2146]\n",
      " [    66      5     36    178    207 149742     51      0]\n",
      " [    98     41    542    542   3415    230 144334   1083]\n",
      " [     2      4      3     96    502    178    238 149266]]\n",
      "[[ 6245     3  1150  8148 15950 38973 22048 41723]\n",
      " [ 7413    11  1001  7175 20450 36495 20552 40779]\n",
      " [ 7654     2  1033  7347 32323 34839 23293 43247]\n",
      " [ 8849     0  1237  5857 36925 35524 19665 42128]\n",
      " [12917     0  1267  4207 53870 24386 15139 38494]\n",
      " [10742     0   259  6576 32303 41810 20503 38092]\n",
      " [ 9657     0  1863  8231 44269 24003 18150 44112]\n",
      " [ 7436     0     0   410 45612 21190  6229 69412]]\n"
     ]
    }
   ],
   "source": [
    "y_true_dt, y_pred_dt = Y_train, model.predict(X_train)\n",
    "y_true_nb, y_pred_nb = Y_train, bayes.predict(X_train)\n",
    "print(accuracy_score(y_true_dt, y_pred_dt)*100)\n",
    "print(accuracy_score(y_true_nb, y_pred_nb)*100)\n",
    "print(confusion_matrix(y_true_dt, y_pred_dt))\n",
    "print(confusion_matrix(y_true_nb, y_pred_nb))"
   ]
  },
  {
   "cell_type": "code",
   "execution_count": null,
   "metadata": {},
   "outputs": [],
   "source": [
    "print(model.get_depth())\n",
    "print(model.get_n_leaves())"
   ]
  }
 ]
}